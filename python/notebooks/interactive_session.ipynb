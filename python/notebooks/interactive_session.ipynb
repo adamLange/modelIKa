{
 "cells": [
  {
   "cell_type": "code",
   "execution_count": 1,
   "metadata": {},
   "outputs": [],
   "source": [
    "import ModelIKa\n",
    "import numpy as np\n",
    "from math import radians"
   ]
  },
  {
   "cell_type": "code",
   "execution_count": 2,
   "metadata": {},
   "outputs": [],
   "source": [
    "from OCC.Core.gp import *"
   ]
  },
  {
   "cell_type": "code",
   "execution_count": 3,
   "metadata": {},
   "outputs": [],
   "source": [
    "client = ModelIKa.IKClient('127.0.0.1',8826)"
   ]
  },
  {
   "cell_type": "code",
   "execution_count": 4,
   "metadata": {},
   "outputs": [],
   "source": [
    "def solve(v_tip,v_orientation):\n",
    "    v_tip_meters = v_tip * 1e-3\n",
    "    v_shank_tip = v_orientation.Normalized() * (0.500+1e-8)\n",
    "    tup_tip = (v_tip_meters.X(), v_tip_meters.Y(), v_tip_meters.Z())\n",
    "    tup_shank_tip = v_shank_tip.X(),v_shank_tip.Y(),v_shank_tip.Z()\n",
    "    x,y,z,a,b = client.solve((*tup_tip,*tup_shank_tip),1e-6,False)\n",
    "    return x,y,z,a,b"
   ]
  },
  {
   "cell_type": "code",
   "execution_count": 5,
   "metadata": {},
   "outputs": [],
   "source": [
    "coords = solve(gp_Vec(1.2,0,0.198)+gp_Vec(0,0,28.453),gp_Vec(6.288,0,3.631))"
   ]
  },
  {
   "cell_type": "code",
   "execution_count": 6,
   "metadata": {},
   "outputs": [
    {
     "name": "stdout",
     "output_type": "stream",
     "text": [
      "G0 X-0.024 Y0.000 Z0.015 A-0.000 B-59.996\n"
     ]
    }
   ],
   "source": [
    "print(\"G0 X{:.3f} Y{:.3f} Z{:.3f} A{:.3f} B{:.3f}\".format(*coords))"
   ]
  },
  {
   "cell_type": "code",
   "execution_count": 6,
   "metadata": {},
   "outputs": [],
   "source": [
    "del client"
   ]
  },
  {
   "cell_type": "code",
   "execution_count": 7,
   "metadata": {},
   "outputs": [],
   "source": [
    "coords = solve(gp_Vec(1.2,0,0.198)+gp_Vec(0,0,38.453),gp_Vec(6.288,0,3.631))"
   ]
  },
  {
   "cell_type": "code",
   "execution_count": 8,
   "metadata": {},
   "outputs": [
    {
     "name": "stdout",
     "output_type": "stream",
     "text": [
      "G0 X-0.033 Y-0.000 Z0.020 A0.000 B-59.996\n"
     ]
    }
   ],
   "source": [
    "print(\"G0 X{:.3f} Y{:.3f} Z{:.3f} A{:.3f} B{:.3f}\".format(*coords))"
   ]
  },
  {
   "cell_type": "code",
   "execution_count": 9,
   "metadata": {},
   "outputs": [
    {
     "data": {
      "text/plain": [
       "(-1.4515799982229112e-07,\n",
       " -2.94774106452e-17,\n",
       " 7.13744780213087e-07,\n",
       " 1.5385257569532323e-16,\n",
       " 0.000322357064120478)"
      ]
     },
     "execution_count": 9,
     "metadata": {},
     "output_type": "execute_result"
    }
   ],
   "source": [
    "solve(gp_Vec(0,0,0),gp_Vec(0,0,1))"
   ]
  },
  {
   "cell_type": "code",
   "execution_count": 10,
   "metadata": {},
   "outputs": [
    {
     "data": {
      "text/plain": [
       "(0.0043303264264210415,\n",
       " -2.4621202697151403e-21,\n",
       " 0.0025011201245068284,\n",
       " 8.98369685043333e-21,\n",
       " -30.000764485176568)"
      ]
     },
     "execution_count": 10,
     "metadata": {},
     "output_type": "execute_result"
    }
   ],
   "source": [
    "solve(gp_Vec(5,0,0).Rotated(gp_Ax1(gp_Pnt(),gp_Dir(0,0,1)),radians(0)),\n",
    "      gp_Vec(0,0,1).Rotated(gp_Ax1(gp_Pnt(),gp_Dir(0,1,0)),radians(30)))"
   ]
  },
  {
   "cell_type": "code",
   "execution_count": null,
   "metadata": {},
   "outputs": [],
   "source": []
  },
  {
   "cell_type": "code",
   "execution_count": null,
   "metadata": {},
   "outputs": [],
   "source": []
  },
  {
   "cell_type": "code",
   "execution_count": 11,
   "metadata": {},
   "outputs": [],
   "source": [
    "client.socket.close()"
   ]
  },
  {
   "cell_type": "code",
   "execution_count": null,
   "metadata": {},
   "outputs": [],
   "source": []
  }
 ],
 "metadata": {
  "kernelspec": {
   "display_name": "Python 3",
   "language": "python",
   "name": "python3"
  },
  "language_info": {
   "codemirror_mode": {
    "name": "ipython",
    "version": 3
   },
   "file_extension": ".py",
   "mimetype": "text/x-python",
   "name": "python",
   "nbconvert_exporter": "python",
   "pygments_lexer": "ipython3",
   "version": "3.6.9"
  }
 },
 "nbformat": 4,
 "nbformat_minor": 4
}
